{
 "cells": [
  {
   "cell_type": "code",
   "execution_count": 1,
   "metadata": {},
   "outputs": [],
   "source": [
    "import numpy as np\n",
    "import pandas as pd\n",
    "import matplotlib.pyplot as plt\n",
    "import seaborn as sns\n",
    "import matplotlib as mpl"
   ]
  },
  {
   "cell_type": "code",
   "execution_count": 16,
   "metadata": {},
   "outputs": [],
   "source": [
    "import os\n",
    "os.chdir('../code/')"
   ]
  },
  {
   "cell_type": "markdown",
   "metadata": {},
   "source": [
    "## Lattices\n",
    "\n",
    "A lattice in the plane is something that looks like:"
   ]
  },
  {
   "cell_type": "code",
   "execution_count": 8,
   "metadata": {},
   "outputs": [],
   "source": [
    "vec1 = 2*np.random.rand(2)-1\n",
    "vec2 = 2*np.random.rand(2)-1"
   ]
  },
  {
   "cell_type": "code",
   "execution_count": 11,
   "metadata": {},
   "outputs": [
    {
     "data": {
      "text/plain": [
       "[array([ 0.76875268, -0.52635735]), array([-0.18720919, -0.84636717])]"
      ]
     },
     "execution_count": 11,
     "metadata": {},
     "output_type": "execute_result"
    }
   ],
   "source": [
    "[vec1,vec2]"
   ]
  },
  {
   "cell_type": "code",
   "execution_count": 13,
   "metadata": {},
   "outputs": [
    {
     "data": {
      "text/plain": [
       "<matplotlib.collections.PathCollection at 0x281ac9610>"
      ]
     },
     "execution_count": 13,
     "metadata": {},
     "output_type": "execute_result"
    },
    {
     "data": {
      "image/png": "[encoded data removed]",
      "text/plain": [
       "<Figure size 640x480 with 1 Axes>"
      ]
     },
     "metadata": {},
     "output_type": "display_data"
    }
   ],
   "source": [
    "pts = np.array([a*vec1+b*vec2 for a in range(-5,6) for b in range(-5,6)\n",
    "                if np.linalg.norm(a*vec1+b*vec2)<5])\n",
    "plt.scatter(x=pts[::,0],y=pts[::,1])\n",
    "plt.scatter(x = [0], y = [0], c= 'r')"
   ]
  },
  {
   "cell_type": "markdown",
   "metadata": {},
   "source": [
    "We can give a more precise definition by explaining the code we used to generate this picture:\n",
    "* A lattice (in the plane) is a collection of points.\n",
    "* The points of a lattice can be obtained from a basis of $\\mathbb{R}^2$ the same way we would obtain general points (as linear combinations), but we restrict to INTEGER coefficients, not real numbers. This leads to the discreteness in the picture.\n",
    "\n",
    "We chose to only display points of radius $r<5$ for purely aesthetic reasons - every point $a v_1 + bv_2$ with integer coefficients is actually part of the lattice, but the picture we obtain might look odd if we don't restrict to a disk."
   ]
  },
  {
   "cell_type": "code",
   "execution_count": 14,
   "metadata": {},
   "outputs": [
    {
     "data": {
      "text/plain": [
       "<matplotlib.patches.FancyArrow at 0x2819a97d0>"
      ]
     },
     "execution_count": 14,
     "metadata": {},
     "output_type": "execute_result"
    },
    {
     "data": {
      "image/png": "[encoded data removed]",
      "text/plain": [
       "<Figure size 640x480 with 1 Axes>"
      ]
     },
     "metadata": {},
     "output_type": "display_data"
    }
   ],
   "source": [
    "ptsall = np.array([a*vec1+b*vec2 for a in range(-5,6) for b in range(-5,6)\n",
    "                ])\n",
    "plt.scatter(x=ptsall[::,0],y=ptsall[::,1])\n",
    "\n",
    "plt.scatter(x = [0], y = [0], c= 'r')\n",
    "plt.arrow(x=0,y=0,dx = vec1[0],dy=vec1[1],head_width = 0.04)\n",
    "plt.arrow(x=0,y=0,dx = vec2[0],dy=vec2[1],head_width = 0.04)\n"
   ]
  },
  {
   "cell_type": "markdown",
   "metadata": {},
   "source": [
    "* There are lots of choices of basis for any given lattice, so we don't want a picture that depends on our choice of basis.\n",
    "* We also do not really care if the picture is rescaled or rotated.\n",
    "\n",
    "Both issues are easier to deal with if we think of points on the plane as representing complex numbers: $(x,y)$ represents $x+iy$. One advantage of doing this is we can easily check whether a basis $z_1, z_2$ can be transformed into a different basis $w_1, w_2$ by rotating/scaling: rotating by $\\theta$ and rescaling by $r$ is the same as multiplying by the complex number $r\\cos \\theta + ir\\sin \\theta$. This means $z_1,z_2$ can be rotated/scaled to $w_1, w_2$ if and only if $\\frac{w_1}{z_1} = \\frac{w_2}{z_2}$: if the two fractions are equal, then rotating $z_1,z_2$ by the angle of that complex number and rescaling by the norm of that complex number gives us $w_1, w_2$.\n",
    "\n",
    "In particular, we can always replace our original basis $z_1, z_2$ by $1, \\tau = \\frac{z_1}{z_2}$ to obtain a lattice with the same geometry, but that requires one less vector in the description. \n",
    "\n",
    "Now, we can just as easily do $\\frac{z_2}{z_1}$; the convention is to choose whichever of $\\frac{z_2}{z_1}, \\frac{z_1}{z_2}$ has positive imaginary part, since exactly one of those fractions lies in the upper half plane and the other lies on the lower half plane.\n",
    "\n",
    "Thus, up to rotating/rescaling, every lattice can be described by specifying a point on the upper half plane.\n"
   ]
  },
  {
   "cell_type": "code",
   "execution_count": null,
   "metadata": {},
   "outputs": [],
   "source": [
    "## Make rotation picture"
   ]
  },
  {
   "cell_type": "markdown",
   "metadata": {},
   "source": [
    "Even with this restriction, there are still too many choices for $\\tau$.\n",
    "\n",
    "For example, the lattices generated by $1, \\tau$ and $1, \\tau + 1$ are always going to be the same. \n",
    "\n",
    "However, for each lattice, there is a unique $\\tau$ in the following region:"
   ]
  },
  {
   "cell_type": "code",
   "execution_count": null,
   "metadata": {},
   "outputs": [],
   "source": []
  },
  {
   "cell_type": "markdown",
   "metadata": {},
   "source": [
    "Starting from a lattice, find a vector of minimal length.\n",
    "This will be our first basis vector, and we will rotate the lattice so that the first basis vector is at $1$ (i.e. $(1,0)$ in the plane.)\n",
    "\n",
    "Now choose any other vector so that we have a lattice $1, \\tau$.\n",
    "If the real part of $\\tau$ is not between $-1/2, 1/2$, we can add/subtract 1 until it lies in that range. \n",
    "\n",
    "One can show that this $\\tau$ is uniquely determined by the geometry of the lattice."
   ]
  },
  {
   "cell_type": "code",
   "execution_count": null,
   "metadata": {},
   "outputs": [],
   "source": []
  },
  {
   "cell_type": "markdown",
   "metadata": {},
   "source": [
    "## Symmetries of lattices\n",
    "\n",
    "Let $\\Lambda$ be a lattice in the complex numbers, and let $\\alpha$ be a complex number.\n",
    "\n",
    "We write $\\alpha \\cdot \\Lambda$ to denote the set of points obtained by multiplying everything in $\\Lambda$ by $\\alpha$. Note that this is also a lattice (if $\\Lambda$ is generated by $z_1,z_2$, then $\\alpha \\Lambda$ is generated by $\\alpha z_1, \\alpha z_2$).\n",
    "\n",
    "We say that $\\alpha$ is a symmetry of $\\Lambda$ if every point of $\\alpha \\Lambda$ is contained in $\\Lambda$.\n",
    "\n",
    "* Every lattice has infinitely many boring symmetries: if we multiply a lattice by an integer, we always land back in the lattice.\n",
    "\n",
    "* For almost all lattices, there are only boring symmetries.\n",
    "\n",
    "* For special lattices, like the lattice generated by $1, i$, we have extra symmetries - e.g. $\\alpha = i$."
   ]
  },
  {
   "cell_type": "code",
   "execution_count": null,
   "metadata": {},
   "outputs": [],
   "source": [
    "## Lattice symmetries"
   ]
  },
  {
   "cell_type": "markdown",
   "metadata": {},
   "source": [
    "The set of symmetries of a lattice \"wants\" to have a lot of structure:\n",
    "* The set of symmetries only depends on the internal geometry of the lattice - if we pick a different basis, or rotate or rescale the lattice, the symmetries don't change.\n",
    "* The symmetries of a lattice form a lattice themselves, albeit with a caveat - the lattice might be 1-dimensional.\n",
    "* If our lattice is normalized so that one of the basis vectors is 1, then the symmetries of the lattice necessarily form a sublattice of the original lattice.\n",
    "* The symmetries of the lattice form a ring: this means we can always multiply them. If $\\alpha_1 , \\alpha_2$ are symmetries and $\\lambda$ is a lattice point, then $\\alpha_2 \\lambda$ is in the lattice because $\\alpha_2$ is a symmetry, so $\\alpha_1 \\alpha_2 \\lambda$ is in the lattice because $\\alpha_1$ is a symmetry and $\\alpha_2 \\lambda$ is in the lattice, so $(\\alpha_1\\alpha_2)\\lambda$ is always in the lattice. Thus, $\\alpha_1\\alpha_2$ is in the lattice of symmetries.\n",
    "\n",
    "The set of symmetries of a lattice is basically the biggest ring that we can fit in the lattice. In most cases, we can only fit a copy of the integers - but in special cases, we can fit a copy of a ring of the form $\\mathbb{Z}[\\sqrt{-d}]$ or $\\mathbb{Z}[\\frac{1+\\sqrt{-d}}{2}]$ (the latter only if $-d \\equiv 1 \\pmod 4$) in our lattice."
   ]
  },
  {
   "cell_type": "code",
   "execution_count": 15,
   "metadata": {},
   "outputs": [],
   "source": [
    "## Visualize -23 ring in -23 CM lattice"
   ]
  },
  {
   "cell_type": "code",
   "execution_count": null,
   "metadata": {},
   "outputs": [],
   "source": []
  },
  {
   "cell_type": "markdown",
   "metadata": {},
   "source": [
    "## Lattices with a given set of symmetries\n",
    "\n",
    "Let $\\Lambda$ be a lattice.\n",
    "The set of symmetries of $\\Lambda$ is either $\\mathbb{Z}$,\n",
    "or it coincides with the lattice generated by $1, \\tau$,\n",
    "where $\\tau$ has one of the following forms:\n",
    "* $\\tau = \\sqrt{-d}$ for some integer $-d<0$.\n",
    "* $\\tau = \\frac{-1+\\sqrt{-d}}{2}$ for an odd integer $-d <0$ which satisfies $-d \\equiv 1 \\pmod 4$ (e.g. $\\frac{-1+\\sqrt{-3}}{2}$)\n",
    "For any such $\\tau$, there are only finitely many lattices (up to rotation/rescaling) whose symmetry group contains the lattice generated by $1,\\tau$.\n",
    "\n",
    "We can obtain them all using classical tools from lattice theory.\n",
    "\n",
    "The function below takes as input a discriminant, and returns a list of $\\tau$'s that represent every lattice whose symmetry group contains the lattice associated to the discriminant.\n",
    "\n"
   ]
  },
  {
   "cell_type": "code",
   "execution_count": 17,
   "metadata": {},
   "outputs": [],
   "source": [
    "from lattices import *"
   ]
  },
  {
   "cell_type": "code",
   "execution_count": 46,
   "metadata": {},
   "outputs": [],
   "source": [
    "discriminants = [d for d in range(-3,-25,-1) if d % 4 <= 1]\n",
    "tau_arrays = [np.array([np.array([z.real,z.imag]) for z in get_taus(d)]) for d in discriminants]\n",
    "tau_0s = []\n",
    "for d in discriminants:\n",
    "    if d % 4 == 1:\n",
    "        tau_0s.append(np.array([-1,np.sqrt(-d)])/2)\n",
    "    else:\n",
    "        tau_0s.append(np.array([0,np.sqrt(-d)]))\n",
    "        "
   ]
  },
  {
   "cell_type": "code",
   "execution_count": 39,
   "metadata": {},
   "outputs": [
    {
     "data": {
      "text/plain": [
       "[0.8660254037844385,\n",
       " 1.0,\n",
       " 1.3228756555322954,\n",
       " 1.4142135623730951,\n",
       " 1.6583123951777,\n",
       " 1.7320508075688772,\n",
       " 1.9364916731037083,\n",
       " 2.0000000000000004,\n",
       " 2.1794494717703365,\n",
       " 2.23606797749979,\n",
       " 2.3979157616563596,\n",
       " 2.4494897427831783,\n",
       " 2.5980762113533156,\n",
       " 2.6457513110645907,\n",
       " 2.7838821814150108,\n",
       " 2.8284271247461903]"
      ]
     },
     "execution_count": 39,
     "metadata": {},
     "output_type": "execute_result"
    }
   ],
   "source": [
    "[max(arr[::,1]) for arr in tau_arrays]"
   ]
  },
  {
   "cell_type": "code",
   "execution_count": 48,
   "metadata": {},
   "outputs": [
    {
     "data": {
      "text/plain": [
       "(0.0, 2.5)"
      ]
     },
     "execution_count": 48,
     "metadata": {},
     "output_type": "execute_result"
    },
    {
     "data": {
      "image/png": "[encoded data removed]",
      "text/plain": [
       "<Figure size 640x480 with 1 Axes>"
      ]
     },
     "metadata": {},
     "output_type": "display_data"
    }
   ],
   "source": [
    "fig,ax = plt.subplots()\n",
    "circle = mpl.patches.Circle((0,0),radius=1,color='w')\n",
    "rec = mpl.patches.Rectangle((-0.5,0),1,3,color =[0.5,0.5,0.5,0.2])\n",
    "ax.add_patch(rec)\n",
    "ax.add_patch(circle)\n",
    "for i,d in enumerate(discriminants):\n",
    "    taud = tau_0s[i]\n",
    "    tauarrd = tau_arrays[i]\n",
    "    ax.scatter(x = tauarrd[::,0], y= tauarrd[::,1]\n",
    "               )\n",
    "plt.legend(discriminants)\n",
    "ax.set_aspect('equal')\n",
    "ax.set_xlim(-1,1)\n",
    "ax.set_ylim(0,2.5)"
   ]
  },
  {
   "cell_type": "markdown",
   "metadata": {},
   "source": []
  }
 ],
 "metadata": {
  "kernelspec": {
   "display_name": "Python 3",
   "language": "python",
   "name": "python3"
  },
  "language_info": {
   "codemirror_mode": {
    "name": "ipython",
    "version": 3
   },
   "file_extension": ".py",
   "mimetype": "text/x-python",
   "name": "python",
   "nbconvert_exporter": "python",
   "pygments_lexer": "ipython3",
   "version": "3.11.3"
  }
 },
 "nbformat": 4,
 "nbformat_minor": 2
}
