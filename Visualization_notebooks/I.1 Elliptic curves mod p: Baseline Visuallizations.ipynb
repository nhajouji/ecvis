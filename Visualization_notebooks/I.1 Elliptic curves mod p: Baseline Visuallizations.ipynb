{
 "cells": [
  {
   "cell_type": "code",
   "execution_count": 1,
   "metadata": {},
   "outputs": [],
   "source": [
    "import numpy as np\n",
    "import pandas as pd\n",
    "import matplotlib.pyplot as plt\n",
    "import seaborn as sns"
   ]
  },
  {
   "cell_type": "markdown",
   "metadata": {},
   "source": [
    "## Elliptic curves mod $p$\n",
    "\n",
    "We start with a quick introduction to elliptic curves mod $p$.\n",
    "\n",
    "* An elliptic curve is a set of solutions $(x,y)$ to an equation of the form $y^2 = x^3 + fx + g$, where $f, g$ are constants and the cubic $x^3 + fx + g$ does not have a repeated root (equivalently, $4f^3 + 27g^2 \\neq 0$), together with an extra point \"at infinity\".\n",
    "\n",
    "* \"mod $p$\" means we are choosing a prime $p$, and we are looking at pairs $(x,y)$ where $x,y$ are integers and looking for pairs where $(y^2 \\pmod p) = (x^3 + fx +g \\pmod p)$."
   ]
  },
  {
   "cell_type": "markdown",
   "metadata": {},
   "source": [
    "### Example\n",
    "\n",
    "Our go to example will be the curve $y^2 = x^3 + 3x \\pmod 5$.\n",
    "\n",
    "We can write a 1-line function that obtains all solutions to this within a given range:"
   ]
  },
  {
   "cell_type": "code",
   "execution_count": 2,
   "metadata": {},
   "outputs": [],
   "source": [
    "def points_on_curve(f:int,g:int,p:int,xmin,xmax,ymin,ymax):\n",
    "    return np.array([np.array([x,y]) for x in range(xmin,xmax)\n",
    "            for y in range(ymin,ymax)\n",
    "            if (y*y)%p==(x**3+f*x+g)%p])"
   ]
  },
  {
   "cell_type": "code",
   "execution_count": 3,
   "metadata": {},
   "outputs": [
    {
     "data": {
      "text/plain": [
       "<matplotlib.collections.PathCollection at 0x156e71150>"
      ]
     },
     "execution_count": 3,
     "metadata": {},
     "output_type": "execute_result"
    },
    {
     "data": {
      "image/png": "[encoded data removed]",
      "text/plain": [
       "<Figure size 640x480 with 1 Axes>"
      ]
     },
     "metadata": {},
     "output_type": "display_data"
    }
   ],
   "source": [
    "pts_ex = points_on_curve(3,0,5,-10,11,-10,11)\n",
    "plt.scatter(x=pts_ex[::,0],y=pts_ex[::,1])"
   ]
  },
  {
   "cell_type": "markdown",
   "metadata": {},
   "source": [
    "Note that the picture repeats in both directions - i.e. it is \"doubly periodic\" - so we don't need to look at the whole picture. All of the information in the picture can be seen by looking at a $p \\times p$ square - any such square will do."
   ]
  },
  {
   "cell_type": "code",
   "execution_count": null,
   "metadata": {},
   "outputs": [],
   "source": [
    "## Make pictures with fundamental domains\n",
    "pts_ex = points_on_curve(3,0,5,-10,11,-10,11)\n",
    "plt.scatter(x=pts_ex[::,0],y=pts_ex[::,1])\n"
   ]
  },
  {
   "cell_type": "markdown",
   "metadata": {},
   "source": [
    "## Problems with baseline visualization\n",
    "\n",
    "The baseline picture is based on an ad hoc definition of \"elliptic curve\". The actual definition of an elliptic curve is \"a genus one curve with a marked point\".\n",
    "* \"Genus one\" means the points should live on something that looks like a torus (i.e. the surface of a donut). Our picture does not look anything like a donut.\n",
    "* The \"marked point\" for an elliptic curve of this form is the point at infinity - we can't actually see it in the picture. \n",
    "\n",
    "Ok, so while our definition is easy to understand, it leads to a picture that looks nothing like the thing our object is meant to look like.\n",
    "\n",
    "### Group Law\n",
    "The points on an elliptic curve form a \"group\". This means there is a rule that lets us \"add points\" on the curve. This follows from the fact that elliptic curves are tori - but in addition to not seeing the torus structure, there is also no clue from the picture that there should be something like a group structure.\n",
    "\n",
    "### Geometry mod $p$\n",
    "\n",
    "Whenever we draw a picture in $\\mathbb{R}^2$, we are implicitly assigning a notion of distance to the points we are drawing. Usually, this isn't worth mentioning because we are working with things assumed to live in Euclidean space. \n",
    "\n",
    "However, the \"distance\" between two points in picture depends on our choice of fundamental domain - since it changes from picture to picture, it is a meaningless detail, but as long as we use this type of picture, it will have an undue influence in how we read the picture. \n",
    "\n",
    "Our goal is to obtain pictures that address these issues."
   ]
  }
 ],
 "metadata": {
  "kernelspec": {
   "display_name": "Python 3",
   "language": "python",
   "name": "python3"
  },
  "language_info": {
   "codemirror_mode": {
    "name": "ipython",
    "version": 3
   },
   "file_extension": ".py",
   "mimetype": "text/x-python",
   "name": "python",
   "nbconvert_exporter": "python",
   "pygments_lexer": "ipython3",
   "version": "3.11.3"
  }
 },
 "nbformat": 4,
 "nbformat_minor": 2
}
