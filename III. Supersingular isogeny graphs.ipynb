{
 "cells": [
  {
   "cell_type": "code",
   "execution_count": 1,
   "metadata": {},
   "outputs": [],
   "source": [
    "import numpy as np\n",
    "import matplotlib as mpl\n",
    "import matplotlib.pyplot as plt"
   ]
  },
  {
   "cell_type": "code",
   "execution_count": 23,
   "metadata": {},
   "outputs": [],
   "source": [
    "import os\n",
    "os.chdir('./code/')"
   ]
  },
  {
   "cell_type": "code",
   "execution_count": 21,
   "metadata": {},
   "outputs": [
    {
     "data": {
      "image/png": "[encoded data removed]",
      "text/plain": [
       "<Figure size 640x480 with 1 Axes>"
      ]
     },
     "metadata": {},
     "output_type": "display_data"
    }
   ],
   "source": [
    "fig,ax = plt.subplots()\n",
    "circle0 = mpl.patches.Circle((-1.5,0),radius=1,color='w')\n",
    "circle1 = mpl.patches.Circle((-0.5,0),radius=1,color='w')\n",
    "circle2 = mpl.patches.Circle((0.5,0),radius=1,color='w')\n",
    "circle3 = mpl.patches.Circle((1.5,0),radius=1,color='w')\n",
    "\n",
    "rec = mpl.patches.Rectangle((-1.5,0),3,3,color =[0.5,0.5,0.5,0.2])\n",
    "ax.add_patch(rec)\n",
    "for circle in [circle0,circle1,circle2,circle3]:\n",
    "    ax.add_patch(circle)\n",
    "\n",
    "ax.vlines(x=0.5,ymin=1,ymax = 3,linestyles='dotted')\n",
    "ax.vlines(x=-0.5,ymin=1,ymax = 3,linestyles='dashdot')\n",
    "ax.vlines(x=-1.5,ymin=1,ymax = 3,linestyles='dashed')\n",
    "ax.vlines(x=1.5,ymin=1,ymax = 3,linestyles='dashed')\n",
    "\n",
    "ax.set_ylim((0,3))\n",
    "ax.set_xlim((-2,2))\n",
    "ax.set_aspect('equal')\n"
   ]
  },
  {
   "cell_type": "code",
   "execution_count": 24,
   "metadata": {},
   "outputs": [],
   "source": [
    "from lattices import *"
   ]
  },
  {
   "cell_type": "code",
   "execution_count": 28,
   "metadata": {},
   "outputs": [],
   "source": [
    "taus23 = get_taus(-23)"
   ]
  },
  {
   "cell_type": "code",
   "execution_count": 29,
   "metadata": {},
   "outputs": [
    {
     "data": {
      "text/plain": [
       "[(-0.5+2.3979157616563596j),\n",
       " (-0.25+1.1989578808281798j),\n",
       " (0.25+1.1989578808281798j)]"
      ]
     },
     "execution_count": 29,
     "metadata": {},
     "output_type": "execute_result"
    }
   ],
   "source": [
    "taus23"
   ]
  },
  {
   "cell_type": "code",
   "execution_count": 31,
   "metadata": {},
   "outputs": [],
   "source": [
    "sl2zmod3 = [[[a,b],[c,d]] for a in range(3) for b in range(3) for c in range(3) for d in range(3)\n",
    "        if (a*d-b*c)%3==1]"
   ]
  },
  {
   "cell_type": "code",
   "execution_count": 32,
   "metadata": {},
   "outputs": [
    {
     "data": {
      "text/plain": [
       "[[[0, 1], [2, 0]],\n",
       " [[0, 1], [2, 1]],\n",
       " [[0, 1], [2, 2]],\n",
       " [[0, 2], [1, 0]],\n",
       " [[0, 2], [1, 1]],\n",
       " [[0, 2], [1, 2]],\n",
       " [[1, 0], [0, 1]],\n",
       " [[1, 0], [1, 1]],\n",
       " [[1, 0], [2, 1]],\n",
       " [[1, 1], [0, 1]],\n",
       " [[1, 1], [1, 2]],\n",
       " [[1, 1], [2, 0]],\n",
       " [[1, 2], [0, 1]],\n",
       " [[1, 2], [1, 0]],\n",
       " [[1, 2], [2, 2]],\n",
       " [[2, 0], [0, 2]],\n",
       " [[2, 0], [1, 2]],\n",
       " [[2, 0], [2, 2]],\n",
       " [[2, 1], [0, 2]],\n",
       " [[2, 1], [1, 1]],\n",
       " [[2, 1], [2, 0]],\n",
       " [[2, 2], [0, 2]],\n",
       " [[2, 2], [1, 0]],\n",
       " [[2, 2], [2, 1]]]"
      ]
     },
     "execution_count": 32,
     "metadata": {},
     "output_type": "execute_result"
    }
   ],
   "source": [
    "sl2zmod3"
   ]
  },
  {
   "cell_type": "code",
   "execution_count": 33,
   "metadata": {},
   "outputs": [
    {
     "data": {
      "text/plain": [
       "24"
      ]
     },
     "execution_count": 33,
     "metadata": {},
     "output_type": "execute_result"
    }
   ],
   "source": [
    "len(sl2zmod3)"
   ]
  },
  {
   "cell_type": "code",
   "execution_count": 45,
   "metadata": {},
   "outputs": [],
   "source": [
    "gamma03mod3 = [m for m in sl2zmod3 if m[0][1]==0]"
   ]
  },
  {
   "cell_type": "code",
   "execution_count": 47,
   "metadata": {},
   "outputs": [
    {
     "ename": "SyntaxError",
     "evalue": "did you forget parentheses around the comprehension target? (2329138633.py, line 1)",
     "output_type": "error",
     "traceback": [
      "\u001b[0;36m  Cell \u001b[0;32mIn[47], line 1\u001b[0;36m\u001b[0m\n\u001b[0;31m    [np,matmul(m,[[0,1],[-1,0]]) for m in gamma03mod3]\u001b[0m\n\u001b[0m     ^\u001b[0m\n\u001b[0;31mSyntaxError\u001b[0m\u001b[0;31m:\u001b[0m did you forget parentheses around the comprehension target?\n"
     ]
    }
   ],
   "source": []
  },
  {
   "cell_type": "code",
   "execution_count": 43,
   "metadata": {},
   "outputs": [],
   "source": [
    "def matrix_mod(m,p):\n",
    "    return [[a% p for a in r] for r in m]\n",
    "\n",
    "def get_gamma0_coset_reps(p:int):\n",
    "    sl2modp = []\n",
    "    for a in range(p):\n",
    "        for b in range(p):\n",
    "            for c in range(p):\n",
    "                for d in range(p):\n",
    "                    if (a*d-b*c)%p == 1:\n",
    "                        sl2modp.append(np.array([[a,b],[c,d]]))\n",
    "    gamma0 = [mat for mat in sl2modp if mat[1][0] == 0]\n",
    "    cosets = [gamma0]\n",
    "    cosetreps = [np.array([[1,0],[0,1]])]\n",
    "    remainingelts = [m for m in sl2modp if m not in gamma0]\n",
    "    while len(remainingelts)>0:\n",
    "        m = remainingelts.pop()\n",
    "        cosetm = [matrix_mod(np.matmul(g,m),p) for g in gamma0]\n",
    "        cosets.append(cosetm)\n",
    "        cosetreps.append(m)\n",
    "        remainingelts = [m for m in remainingelts if m not in cosetm]\n",
    "    return cosets,cosetreps"
   ]
  },
  {
   "cell_type": "code",
   "execution_count": 44,
   "metadata": {},
   "outputs": [
    {
     "ename": "ValueError",
     "evalue": "The truth value of an array with more than one element is ambiguous. Use a.any() or a.all()",
     "output_type": "error",
     "traceback": [
      "\u001b[0;31m---------------------------------------------------------------------------\u001b[0m",
      "\u001b[0;31mValueError\u001b[0m                                Traceback (most recent call last)",
      "Cell \u001b[0;32mIn[44], line 1\u001b[0m\n\u001b[0;32m----> 1\u001b[0m cosets,cosetreps \u001b[38;5;241m=\u001b[39m \u001b[43mget_gamma0_coset_reps\u001b[49m\u001b[43m(\u001b[49m\u001b[38;5;241;43m3\u001b[39;49m\u001b[43m)\u001b[49m\n",
      "Cell \u001b[0;32mIn[43], line 15\u001b[0m, in \u001b[0;36mget_gamma0_coset_reps\u001b[0;34m(p)\u001b[0m\n\u001b[1;32m     13\u001b[0m cosets \u001b[38;5;241m=\u001b[39m [gamma0]\n\u001b[1;32m     14\u001b[0m cosetreps \u001b[38;5;241m=\u001b[39m [np\u001b[38;5;241m.\u001b[39marray([[\u001b[38;5;241m1\u001b[39m,\u001b[38;5;241m0\u001b[39m],[\u001b[38;5;241m0\u001b[39m,\u001b[38;5;241m1\u001b[39m]])]\n\u001b[0;32m---> 15\u001b[0m remainingelts \u001b[38;5;241m=\u001b[39m \u001b[43m[\u001b[49m\u001b[43mm\u001b[49m\u001b[43m \u001b[49m\u001b[38;5;28;43;01mfor\u001b[39;49;00m\u001b[43m \u001b[49m\u001b[43mm\u001b[49m\u001b[43m \u001b[49m\u001b[38;5;129;43;01min\u001b[39;49;00m\u001b[43m \u001b[49m\u001b[43msl2modp\u001b[49m\u001b[43m \u001b[49m\u001b[38;5;28;43;01mif\u001b[39;49;00m\u001b[43m \u001b[49m\u001b[43mm\u001b[49m\u001b[43m \u001b[49m\u001b[38;5;129;43;01mnot\u001b[39;49;00m\u001b[43m \u001b[49m\u001b[38;5;129;43;01min\u001b[39;49;00m\u001b[43m \u001b[49m\u001b[43mgamma0\u001b[49m\u001b[43m]\u001b[49m\n\u001b[1;32m     16\u001b[0m \u001b[38;5;28;01mwhile\u001b[39;00m \u001b[38;5;28mlen\u001b[39m(remainingelts)\u001b[38;5;241m>\u001b[39m\u001b[38;5;241m0\u001b[39m:\n\u001b[1;32m     17\u001b[0m     m \u001b[38;5;241m=\u001b[39m remainingelts\u001b[38;5;241m.\u001b[39mpop()\n",
      "Cell \u001b[0;32mIn[43], line 15\u001b[0m, in \u001b[0;36m<listcomp>\u001b[0;34m(.0)\u001b[0m\n\u001b[1;32m     13\u001b[0m cosets \u001b[38;5;241m=\u001b[39m [gamma0]\n\u001b[1;32m     14\u001b[0m cosetreps \u001b[38;5;241m=\u001b[39m [np\u001b[38;5;241m.\u001b[39marray([[\u001b[38;5;241m1\u001b[39m,\u001b[38;5;241m0\u001b[39m],[\u001b[38;5;241m0\u001b[39m,\u001b[38;5;241m1\u001b[39m]])]\n\u001b[0;32m---> 15\u001b[0m remainingelts \u001b[38;5;241m=\u001b[39m [m \u001b[38;5;28;01mfor\u001b[39;00m m \u001b[38;5;129;01min\u001b[39;00m sl2modp \u001b[38;5;28;01mif\u001b[39;00m \u001b[43mm\u001b[49m\u001b[43m \u001b[49m\u001b[38;5;129;43;01mnot\u001b[39;49;00m\u001b[43m \u001b[49m\u001b[38;5;129;43;01min\u001b[39;49;00m\u001b[43m \u001b[49m\u001b[43mgamma0\u001b[49m]\n\u001b[1;32m     16\u001b[0m \u001b[38;5;28;01mwhile\u001b[39;00m \u001b[38;5;28mlen\u001b[39m(remainingelts)\u001b[38;5;241m>\u001b[39m\u001b[38;5;241m0\u001b[39m:\n\u001b[1;32m     17\u001b[0m     m \u001b[38;5;241m=\u001b[39m remainingelts\u001b[38;5;241m.\u001b[39mpop()\n",
      "\u001b[0;31mValueError\u001b[0m: The truth value of an array with more than one element is ambiguous. Use a.any() or a.all()"
     ]
    }
   ],
   "source": [
    "cosets,cosetreps = get_gamma0_coset_reps(3)"
   ]
  },
  {
   "cell_type": "code",
   "execution_count": null,
   "metadata": {},
   "outputs": [],
   "source": []
  }
 ],
 "metadata": {
  "kernelspec": {
   "display_name": "Python 3",
   "language": "python",
   "name": "python3"
  },
  "language_info": {
   "codemirror_mode": {
    "name": "ipython",
    "version": 3
   },
   "file_extension": ".py",
   "mimetype": "text/x-python",
   "name": "python",
   "nbconvert_exporter": "python",
   "pygments_lexer": "ipython3",
   "version": "3.11.3"
  }
 },
 "nbformat": 4,
 "nbformat_minor": 2
}
