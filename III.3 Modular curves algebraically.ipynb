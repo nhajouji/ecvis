{
 "cells": [
  {
   "cell_type": "code",
   "execution_count": null,
   "metadata": {},
   "outputs": [],
   "source": []
  },
  {
   "cell_type": "markdown",
   "metadata": {},
   "source": [
    "## $X_1(5)$\n",
    "\n",
    "We're going to start by talking about the modular curve $X_1(5)$.\n",
    "\n",
    "Typically, this is represented by a picture of the form"
   ]
  },
  {
   "cell_type": "code",
   "execution_count": null,
   "metadata": {},
   "outputs": [],
   "source": [
    "# Add fundamental domain"
   ]
  },
  {
   "cell_type": "markdown",
   "metadata": {},
   "source": [
    "Algebraically, $X_1(5)$ is just a line. We can describe points on $X_1(5)$ by specifying a coordinate $t$, which can be any number, and each point/choice of coordinate represents exactly one pair $(E,\\pm P)$, where $E$ is an elliptic curve and $\\pm P$ are points of order 5 on $E$, up to isomorphism.\n",
    "\n",
    "* it's easy to picture a generic line, but that doesn't help us do anything.\n",
    "* This curve has too many points - whenever $(E, \\pm P)$ appears, we also have $(E,\\pm 2P)$ as a distinct point on this curve.\n",
    "\n",
    "The key advantage of working with the algebraic model of $X_1(5)$ is that it comes equipped with a universal family of elliptic curves, namely:\n",
    "$$ y^2 +(1-t)xy-ty = x^3 - tx^2 $$\n",
    "\n",
    "For any elliptic curve $E$ and any choice of point $P$ of order 5 on $E$, there is an isomorphism from $E$ to a curve with an equation as above that takes $P$ to $(0,0)$. Each pair $(E,P)$ can be represented by exactly one $t_0$, and two pairs are represented by the same $t_0$ if and only if they are isomorphic (which usually just means $(E,P) = (E,\\pm P)$. )\n",
    "\n"
   ]
  },
  {
   "cell_type": "markdown",
   "metadata": {},
   "source": [
    "## Elliptic surface\n",
    "\n",
    "This family of curves actually forms a surface.\n",
    "\n",
    "We can visualize the set of real points on that surface e.g."
   ]
  },
  {
   "cell_type": "code",
   "execution_count": null,
   "metadata": {},
   "outputs": [],
   "source": [
    "## Add 3d plot"
   ]
  },
  {
   "cell_type": "markdown",
   "metadata": {},
   "source": [
    "## The $j$-map algebraically\n",
    "\n",
    "The map $j_5 : X_1(5)\\to X(1)$ can be easily computed on the algebraic model.\n",
    "\n",
    "The points where the denominator is 0 are the \"cusps\" of the modular curve.\n",
    "\n"
   ]
  },
  {
   "cell_type": "code",
   "execution_count": null,
   "metadata": {},
   "outputs": [],
   "source": [
    "## Add analytic cusps"
   ]
  },
  {
   "cell_type": "markdown",
   "metadata": {},
   "source": []
  },
  {
   "cell_type": "markdown",
   "metadata": {},
   "source": [
    "## $X_0(5)$\n",
    "\n",
    "The curve we really care about is $X_0(5)$. Note that it is also a line, so there isn't anything to visualize. There is a map $X_1(5)\\to X_0(5)$.\n",
    "\n",
    "* The $j$-maps factor appropriately.\n",
    "* The universal curve over $X_0(5)$ is just the universal curve over $X_1(5)$.\n",
    "* However, there is exactly one point on $X_0(5)$ for each isogeny (not 2) and we have a simple formula for the Fricke involution.\n",
    "\n",
    "Precisely, the map $X_1(5)\\to X_0(5)$ is given by () - abstractly this corresponds to taking the quotient by $(E,\\pm P) \\sim (E, \\pm 2P)$.\n",
    "\n",
    "The map $X_0(5)\\to X(1)$ is given by:\n",
    "\n",
    "and the Fricke involution is given by:\n",
    "\n",
    "To compute $X_0(5)_\\Delta$, we just need to factor $j_5 - j_5 \\circ \\mathrm{Fr}_5$.\n",
    "\n"
   ]
  },
  {
   "cell_type": "markdown",
   "metadata": {},
   "source": []
  }
 ],
 "metadata": {
  "language_info": {
   "name": "python"
  }
 },
 "nbformat": 4,
 "nbformat_minor": 2
}
